{
 "cells": [
  {
   "cell_type": "code",
   "execution_count": 1,
   "metadata": {},
   "outputs": [
    {
     "name": "stderr",
     "output_type": "stream",
     "text": [
      "Using TensorFlow backend.\n"
     ]
    }
   ],
   "source": [
    "from keras import backend as K\n",
    "import tensorflow as tf\n",
    "\n",
    "def weighted_binary_crossentropy(y_true, y_pred):\n",
    "    x = 0.10 #Approximate percentage of positives in each of the 17 zones\n",
    "    POS_ADJ = 0.5/x\n",
    "    NEG_ADJ = 0.5/(1-x)\n",
    "    n_values = y_true.shape[0]\n",
    "    elems = (tf.unstack(y_true,axis=0)) \n",
    "    adj = tf.map_fn(lambda x:tuple([tf.cond(tf.equal(x[i],1.),lambda:POS_ADJ,lambda: NEG_ADJ) for i in range(n_values)]),\n",
    "                    elems, \n",
    "                    dtype = tuple([tf.float32 for i in range(n_values)]) )\n",
    "    adj = tf.stack(adj,axis=0)\n",
    "    print(\"Before averaging\")\n",
    "    print(tf.multiply(adj,K.binary_crossentropy(y_true,y_pred)).eval())\n",
    "    return K.mean(tf.multiply(adj,K.binary_crossentropy(y_true,y_pred)),axis=-1)"
   ]
  },
  {
   "cell_type": "code",
   "execution_count": 3,
   "metadata": {},
   "outputs": [
    {
     "name": "stdout",
     "output_type": "stream",
     "text": [
      "(3, 4)\n",
      "(3, 4)\n",
      "Before averaging\n",
      "[[  3.46573591   0.3850818    3.46573591   3.46573591]\n",
      " [ 23.0258522   11.5129261    6.01986408   0.52680266]\n",
      " [  0.3850818    0.66887385   0.3850818    0.12396865]]\n",
      "Final result\n",
      "[  2.69557238  10.27136135   0.39075151]\n"
     ]
    }
   ],
   "source": [
    "import numpy as np\n",
    "sess = tf.InteractiveSession()\n",
    "a= np.array([[1,0,1,1],[1,1,1,1],[0,0,0,0]])\n",
    "print(a.shape)\n",
    "b= np.array([[0.5,0.5,0.5,0.5],[0.01,0.1,0.3,0.9],[0.5,0.7,0.5,0.2]])\n",
    "\n",
    "print(b.shape)\n",
    "z = weighted_binary_crossentropy(tf.convert_to_tensor(a,dtype=tf.float32),tf.convert_to_tensor(b,dtype=tf.float32))\n",
    "print(\"Final result\")\n",
    "print(z.eval())"
   ]
  },
  {
   "cell_type": "code",
   "execution_count": null,
   "metadata": {
    "collapsed": true
   },
   "outputs": [],
   "source": []
  }
 ],
 "metadata": {
  "kernelspec": {
   "display_name": "Python 3",
   "language": "python",
   "name": "python3"
  },
  "language_info": {
   "codemirror_mode": {
    "name": "ipython",
    "version": 3
   },
   "file_extension": ".py",
   "mimetype": "text/x-python",
   "name": "python",
   "nbconvert_exporter": "python",
   "pygments_lexer": "ipython3",
   "version": "3.5.2"
  }
 },
 "nbformat": 4,
 "nbformat_minor": 2
}
