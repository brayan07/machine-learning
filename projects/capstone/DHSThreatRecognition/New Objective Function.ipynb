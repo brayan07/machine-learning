{
 "cells": [
  {
   "cell_type": "code",
   "execution_count": 1,
   "metadata": {},
   "outputs": [
    {
     "name": "stderr",
     "output_type": "stream",
     "text": [
      "Using TensorFlow backend.\n"
     ]
    }
   ],
   "source": [
    "from keras import backend as K\n",
    "import tensorflow as tf\n",
    "\n",
    "def weighted_binary_crossentropy(y_true, y_pred):\n",
    "    x = 0.10 #Approximate percentage of positives in each of the 17 zones\n",
    "    POS_ADJ = 0.5/x\n",
    "    NEG_ADJ = 0.5/(1-x)\n",
    "    n_values = y_true.shape[0]\n",
    "    elems = (tf.unstack(y_true,axis=0)) \n",
    "    adj = tf.map_fn(lambda x:tuple([tf.cond(tf.equal(x[i],1.),lambda:POS_ADJ,lambda: NEG_ADJ) for i in range(n_values)]),\n",
    "                    elems, \n",
    "                    dtype = tuple([tf.float32 for i in range(n_values)]) )\n",
    "    adj = tf.stack(adj,axis=0)\n",
    "    print(\"Before averaging\")\n",
    "    print(tf.multiply(adj,K.binary_crossentropy(y_true,y_pred)).eval())\n",
    "    return K.mean(tf.multiply(adj,K.binary_crossentropy(y_true,y_pred)),axis=-1)"
   ]
  },
  {
   "cell_type": "code",
   "execution_count": 3,
   "metadata": {},
   "outputs": [
    {
     "name": "stdout",
     "output_type": "stream",
     "text": [
      "(3, 4)\n",
      "(3, 4)\n",
      "Before averaging\n",
      "[[  3.46573591   0.3850818    3.46573591   3.46573591]\n",
      " [ 23.0258522   11.5129261    6.01986408   0.52680266]\n",
      " [  0.3850818    0.66887385   0.3850818    0.12396865]]\n",
      "Final result\n",
      "[  2.69557238  10.27136135   0.39075151]\n"
     ]
    }
   ],
   "source": [
    "import numpy as np\n",
    "sess = tf.InteractiveSession()\n",
    "a= np.array([[1,0,1,1],[1,1,1,1],[0,0,0,0]])\n",
    "print(a.shape)\n",
    "b= np.array([[0.5,0.5,0.5,0.5],[0.01,0.1,0.3,0.9],[0.5,0.7,0.5,0.2]])\n",
    "\n",
    "print(b.shape)\n",
    "z = weighted_binary_crossentropy(tf.convert_to_tensor(a,dtype=tf.float32),tf.convert_to_tensor(b,dtype=tf.float32))\n",
    "print(\"Final result\")\n",
    "print(z.eval())"
   ]
  },
  {
   "cell_type": "code",
   "execution_count": 43,
   "metadata": {
    "collapsed": true
   },
   "outputs": [],
   "source": [
    "from keras import backend as K\n",
    "import tensorflow as tf\n",
    "import numpy as np\n",
    "\n",
    "sess = tf.InteractiveSession()\n",
    "def ToRGB(x):\n",
    "    max_v = tf.reduce_max(x)\n",
    "    min_v = tf.reduce_min(x)\n",
    "    max_rgb = tf.constant(255,dtype=x.dtype)\n",
    "    x = tf.floordiv(tf.multiply(tf.subtract(x,min_v),max_rgb),tf.subtract(max_v,min_v))\n",
    "    return x\n",
    "def ToNewShape(x):\n",
    "    ndim = len(x.shape)\n",
    "    if ndim == 5:\n",
    "        return tf.reverse(tf.transpose(x,[0,1,3,2,4]),[-3])\n",
    "    elif ndim == 4:\n",
    "        return tf.reverse(tf.transpose(x,[0,2,1,3]),[-3])\n",
    "    else:\n",
    "        raise ValueError(\"Unexpected number of dims!\")"
   ]
  },
  {
   "cell_type": "code",
   "execution_count": 44,
   "metadata": {},
   "outputs": [
    {
     "name": "stdout",
     "output_type": "stream",
     "text": [
      "[[  0   6   2]\n",
      " [255  32 240]\n",
      " [255  16  39]]\n"
     ]
    }
   ],
   "source": [
    "x = np.array([[13.5,100.45,45.23],[3434.43,445,3243],[3434,232,545]])\n",
    "x = tf.convert_to_tensor(x,dtype=tf.int32)\n",
    "y=ToRGB(x)\n",
    "print(y.eval())"
   ]
  },
  {
   "cell_type": "code",
   "execution_count": 47,
   "metadata": {
    "scrolled": false
   },
   "outputs": [
    {
     "name": "stdout",
     "output_type": "stream",
     "text": [
      "[[ 0  1  2  3  4  5  6  7  8  9]\n",
      " [10 11 12 13 14 15 16 17 18 19]\n",
      " [20 21 22 23 24 25 26 27 28 29]\n",
      " [30 31 32 33 34 35 36 37 38 39]\n",
      " [40 41 42 43 44 45 46 47 48 49]]\n",
      "[[ 9 19 29 39 49]\n",
      " [ 8 18 28 38 48]\n",
      " [ 7 17 27 37 47]\n",
      " [ 6 16 26 36 46]\n",
      " [ 5 15 25 35 45]\n",
      " [ 4 14 24 34 44]\n",
      " [ 3 13 23 33 43]\n",
      " [ 2 12 22 32 42]\n",
      " [ 1 11 21 31 41]\n",
      " [ 0 10 20 30 40]]\n"
     ]
    }
   ],
   "source": [
    "x = np.reshape(np.arange(0,200),newshape=(2,2,5,10,1))\n",
    "print(x[0,0,:,:,0])\n",
    "x = tf.convert_to_tensor(x,tf.int32)\n",
    "y = ToNewShape(x)\n",
    "print(y.eval()[0,0,:,:,0])"
   ]
  },
  {
   "cell_type": "code",
   "execution_count": 33,
   "metadata": {},
   "outputs": [
    {
     "name": "stdout",
     "output_type": "stream",
     "text": [
      "[[[1]\n",
      "  [2]\n",
      "  [3]]\n",
      "\n",
      " [[4]\n",
      "  [5]\n",
      "  [6]]\n",
      "\n",
      " [[7]\n",
      "  [8]\n",
      "  [9]]]\n",
      "(2, 3, 3, 1)\n",
      "[1, 1, 1, 3]\n",
      "[[[1 1 1]\n",
      "  [2 2 2]\n",
      "  [3 3 3]]\n",
      "\n",
      " [[4 4 4]\n",
      "  [5 5 5]\n",
      "  [6 6 6]]\n",
      "\n",
      " [[7 7 7]\n",
      "  [8 8 8]\n",
      "  [9 9 9]]]\n",
      "(2, 3, 3, 3)\n"
     ]
    }
   ],
   "source": [
    "from keras import backend as K\n",
    "import tensorflow as tf\n",
    "import numpy as np\n",
    "\n",
    "sess = tf.InteractiveSession()\n",
    "\n",
    "x = np.array([[[[1],[2],[3]],[[4],[5],[6]],[[7],[8],[9]]],[[[10],[11],[12]],[[13],[14],[15]],[[16],[17],[18]]]])\n",
    "print(x[0])\n",
    "print(x.shape)\n",
    "x = tf.convert_to_tensor(x,tf.int32)\n",
    "z = [[1 for d in x.get_shape()[:-1]],[3]]\n",
    "z = [val for sublist in z for val in sublist]\n",
    "print(z)\n",
    "def toGreyScale(x):\n",
    "    shape = x.get_shape()\n",
    "    #assume channel_last\n",
    "    mult = [[1 for d in shape[:-1]],[3]]\n",
    "    mult = [val for sublist in mult for val in sublist]\n",
    "    return tf.tile(x,mult)\n",
    "y = toGreyScale(x)\n",
    "print(y.eval()[0])\n",
    "print(y.shape)"
   ]
  },
  {
   "cell_type": "code",
   "execution_count": null,
   "metadata": {
    "collapsed": true
   },
   "outputs": [],
   "source": []
  }
 ],
 "metadata": {
  "kernelspec": {
   "display_name": "Python 3 (DSHenv_3.5)",
   "language": "python",
   "name": "dhsenv_3.5"
  },
  "language_info": {
   "codemirror_mode": {
    "name": "ipython",
    "version": 3
   },
   "file_extension": ".py",
   "mimetype": "text/x-python",
   "name": "python",
   "nbconvert_exporter": "python",
   "pygments_lexer": "ipython3",
   "version": "3.5.4"
  }
 },
 "nbformat": 4,
 "nbformat_minor": 2
}
