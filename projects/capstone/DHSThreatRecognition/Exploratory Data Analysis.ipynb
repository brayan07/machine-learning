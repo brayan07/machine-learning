{
 "cells": [
  {
   "cell_type": "markdown",
   "metadata": {},
   "source": [
    "# Understanding the Raw Input Data\n",
    "\n",
    "## Background\n",
    "\n",
    "The dataset provided by the DHS for this competition comes in the form of binary files.  The files contain headers and the readings from the mm wave scanners organized in various spatial arrangements.  For this project, we have chosen the data set that has been created by projecting mm wave scanner readings into two dimensional images of subjects at 64 equally spaced angles.\n",
    "\n",
    "## Reading the Images\n",
    "\n",
    "The DHS provided functions to read the various image formats. In this case, the format of interest is the .a3daps format. The input/output functions have been saved in the IOFunctions.py file."
   ]
  },
  {
   "cell_type": "code",
   "execution_count": null,
   "metadata": {
    "collapsed": true
   },
   "outputs": [],
   "source": [
    "import seaborn as sns\n",
    "import numpy as np\n",
    "import matplotlib.pyplot as plt\n",
    "import IOFunctions as iof\n",
    "import os \n",
    "import pprint as pp\n",
    "import pandas as pd\n",
    "\n",
    "% matplotlib inline"
   ]
  }
 ],
 "metadata": {
  "kernelspec": {
   "display_name": "Python 3 (DSHenv_3.5)",
   "language": "python",
   "name": "dhsenv_3.5"
  },
  "language_info": {
   "codemirror_mode": {
    "name": "ipython",
    "version": 3
   },
   "file_extension": ".py",
   "mimetype": "text/x-python",
   "name": "python",
   "nbconvert_exporter": "python",
   "pygments_lexer": "ipython3",
   "version": "3.5.4"
  }
 },
 "nbformat": 4,
 "nbformat_minor": 2
}
